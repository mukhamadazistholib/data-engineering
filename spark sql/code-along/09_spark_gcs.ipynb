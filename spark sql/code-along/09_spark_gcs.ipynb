{
 "cells": [
  {
   "cell_type": "code",
   "execution_count": 1,
   "id": "3307b886",
   "metadata": {},
   "outputs": [],
   "source": [
    "import pyspark\n",
    "from pyspark.sql import SparkSession\n",
    "from pyspark.conf import SparkConf\n",
    "from pyspark.context import SparkContext"
   ]
  },
  {
   "cell_type": "code",
   "execution_count": 2,
   "id": "9f0ddbff",
   "metadata": {},
   "outputs": [],
   "source": [
    "credentials_location = '/home/rickynauvaldyruliputra/.google/credentials/google_credentials.json'\n",
    "\n",
    "conf = SparkConf() \\\n",
    "    .setMaster('local[*]') \\\n",
    "    .setAppName('test') \\\n",
    "    .set(\"spark.jars\", \"./lib/gcs-connector-hadoop3-2.2.5.jar\") \\\n",
    "    .set(\"spark.hadoop.google.cloud.auth.service.account.enable\", \"true\") \\\n",
    "    .set(\"spark.hadoop.google.cloud.auth.service.account.json.keyfile\", credentials_location)"
   ]
  },
  {
   "cell_type": "code",
   "execution_count": 3,
   "id": "b83404e8",
   "metadata": {},
   "outputs": [
    {
     "name": "stdout",
     "output_type": "stream",
     "text": [
      "23/03/15 18:36:40 WARN Utils: Your hostname, centaur.local resolves to a loopback address: 127.0.0.1; using 172.20.10.8 instead (on interface en0)\n",
      "23/03/15 18:36:40 WARN Utils: Set SPARK_LOCAL_IP if you need to bind to another address\n",
      "23/03/15 18:37:10 WARN NativeCodeLoader: Unable to load native-hadoop library for your platform... using builtin-java classes where applicable\n",
      "23/03/15 18:37:10 WARN DependencyUtils: Local jar /Users/rickynauvaldyruliputra/code/lib/gcs-connector-hadoop3-2.2.5.jar does not exist, skipping.\n",
      "23/03/15 18:37:11 INFO SparkContext: Running Spark version 3.3.2\n",
      "23/03/15 18:37:11 INFO ResourceUtils: ==============================================================\n",
      "23/03/15 18:37:11 INFO ResourceUtils: No custom resources configured for spark.driver.\n",
      "23/03/15 18:37:11 INFO ResourceUtils: ==============================================================\n",
      "23/03/15 18:37:11 INFO SparkContext: Submitted application: test\n",
      "23/03/15 18:37:11 INFO ResourceProfile: Default ResourceProfile created, executor resources: Map(cores -> name: cores, amount: 1, script: , vendor: , memory -> name: memory, amount: 1024, script: , vendor: , offHeap -> name: offHeap, amount: 0, script: , vendor: ), task resources: Map(cpus -> name: cpus, amount: 1.0)\n",
      "23/03/15 18:37:11 INFO ResourceProfile: Limiting resource is cpu\n",
      "23/03/15 18:37:11 INFO ResourceProfileManager: Added ResourceProfile id: 0\n",
      "23/03/15 18:37:11 INFO SecurityManager: Changing view acls to: rickynauvaldyruliputra\n",
      "23/03/15 18:37:11 INFO SecurityManager: Changing modify acls to: rickynauvaldyruliputra\n",
      "23/03/15 18:37:11 INFO SecurityManager: Changing view acls groups to: \n",
      "23/03/15 18:37:11 INFO SecurityManager: Changing modify acls groups to: \n",
      "23/03/15 18:37:11 INFO SecurityManager: SecurityManager: authentication disabled; ui acls disabled; users  with view permissions: Set(rickynauvaldyruliputra); groups with view permissions: Set(); users  with modify permissions: Set(rickynauvaldyruliputra); groups with modify permissions: Set()\n",
      "23/03/15 18:37:11 INFO Utils: Successfully started service 'sparkDriver' on port 64215.\n",
      "23/03/15 18:37:11 INFO SparkEnv: Registering MapOutputTracker\n",
      "23/03/15 18:37:12 INFO SparkEnv: Registering BlockManagerMaster\n",
      "23/03/15 18:37:12 INFO BlockManagerMasterEndpoint: Using org.apache.spark.storage.DefaultTopologyMapper for getting topology information\n",
      "23/03/15 18:37:12 INFO BlockManagerMasterEndpoint: BlockManagerMasterEndpoint up\n",
      "23/03/15 18:37:12 INFO SparkEnv: Registering BlockManagerMasterHeartbeat\n",
      "23/03/15 18:37:12 INFO DiskBlockManager: Created local directory at /private/var/folders/bg/3702s1dj24x5wf6dpzjz4d1w0000gn/T/blockmgr-f7efeb70-93cc-4e9c-a8d0-1631a3d5830c\n",
      "23/03/15 18:37:12 INFO MemoryStore: MemoryStore started with capacity 366.3 MiB\n",
      "23/03/15 18:37:12 INFO SparkEnv: Registering OutputCommitCoordinator\n",
      "23/03/15 18:37:12 WARN Utils: Service 'SparkUI' could not bind on port 4040. Attempting port 4041.\n",
      "23/03/15 18:37:12 WARN Utils: Service 'SparkUI' could not bind on port 4041. Attempting port 4042.\n",
      "23/03/15 18:37:12 WARN Utils: Service 'SparkUI' could not bind on port 4042. Attempting port 4043.\n",
      "23/03/15 18:37:12 WARN Utils: Service 'SparkUI' could not bind on port 4043. Attempting port 4044.\n",
      "23/03/15 18:37:12 INFO Utils: Successfully started service 'SparkUI' on port 4044.\n",
      "23/03/15 18:37:12 ERROR SparkContext: Failed to add ./lib/gcs-connector-hadoop3-2.2.5.jar to Spark environment\n",
      "java.io.FileNotFoundException: Jar /Users/rickynauvaldyruliputra/code/lib/gcs-connector-hadoop3-2.2.5.jar not found\n",
      "\tat org.apache.spark.SparkContext.addLocalJarFile$1(SparkContext.scala:1959)\n",
      "\tat org.apache.spark.SparkContext.addJar(SparkContext.scala:2014)\n",
      "\tat org.apache.spark.SparkContext.$anonfun$new$12(SparkContext.scala:507)\n",
      "\tat org.apache.spark.SparkContext.$anonfun$new$12$adapted(SparkContext.scala:507)\n",
      "\tat scala.collection.mutable.ResizableArray.foreach(ResizableArray.scala:62)\n",
      "\tat scala.collection.mutable.ResizableArray.foreach$(ResizableArray.scala:55)\n",
      "\tat scala.collection.mutable.ArrayBuffer.foreach(ArrayBuffer.scala:49)\n",
      "\tat org.apache.spark.SparkContext.<init>(SparkContext.scala:507)\n",
      "\tat org.apache.spark.api.java.JavaSparkContext.<init>(JavaSparkContext.scala:58)\n",
      "\tat sun.reflect.NativeConstructorAccessorImpl.newInstance0(Native Method)\n",
      "\tat sun.reflect.NativeConstructorAccessorImpl.newInstance(NativeConstructorAccessorImpl.java:62)\n",
      "\tat sun.reflect.DelegatingConstructorAccessorImpl.newInstance(DelegatingConstructorAccessorImpl.java:45)\n",
      "\tat java.lang.reflect.Constructor.newInstance(Constructor.java:423)\n",
      "\tat py4j.reflection.MethodInvoker.invoke(MethodInvoker.java:247)\n",
      "\tat py4j.reflection.ReflectionEngine.invoke(ReflectionEngine.java:357)\n",
      "\tat py4j.Gateway.invoke(Gateway.java:238)\n",
      "\tat py4j.commands.ConstructorCommand.invokeConstructor(ConstructorCommand.java:80)\n",
      "\tat py4j.commands.ConstructorCommand.execute(ConstructorCommand.java:69)\n",
      "\tat py4j.ClientServerConnection.waitForCommands(ClientServerConnection.java:182)\n",
      "\tat py4j.ClientServerConnection.run(ClientServerConnection.java:106)\n",
      "\tat java.lang.Thread.run(Thread.java:750)\n",
      "23/03/15 18:37:12 INFO Executor: Starting executor ID driver on host 172.20.10.8\n",
      "23/03/15 18:37:12 INFO Executor: Starting executor with user classpath (userClassPathFirst = false): ''\n",
      "23/03/15 18:37:12 INFO Utils: Successfully started service 'org.apache.spark.network.netty.NettyBlockTransferService' on port 64275.\n",
      "23/03/15 18:37:12 INFO NettyBlockTransferService: Server created on 172.20.10.8:64275\n",
      "23/03/15 18:37:12 INFO BlockManager: Using org.apache.spark.storage.RandomBlockReplicationPolicy for block replication policy\n",
      "23/03/15 18:37:12 INFO BlockManagerMaster: Registering BlockManager BlockManagerId(driver, 172.20.10.8, 64275, None)\n",
      "23/03/15 18:37:12 INFO BlockManagerMasterEndpoint: Registering block manager 172.20.10.8:64275 with 366.3 MiB RAM, BlockManagerId(driver, 172.20.10.8, 64275, None)\n",
      "23/03/15 18:37:12 INFO BlockManagerMaster: Registered BlockManager BlockManagerId(driver, 172.20.10.8, 64275, None)\n",
      "23/03/15 18:37:12 INFO BlockManager: Initialized BlockManager: BlockManagerId(driver, 172.20.10.8, 64275, None)\n"
     ]
    }
   ],
   "source": [
    "sc = SparkContext(conf=conf)\n",
    "\n",
    "hadoop_conf = sc._jsc.hadoopConfiguration()\n",
    "\n",
    "hadoop_conf.set(\"fs.AbstractFileSystem.gs.impl\",  \"com.google.cloud.hadoop.fs.gcs.GoogleHadoopFS\")\n",
    "hadoop_conf.set(\"fs.gs.impl\", \"com.google.cloud.hadoop.fs.gcs.GoogleHadoopFileSystem\")\n",
    "hadoop_conf.set(\"fs.gs.auth.service.account.json.keyfile\", credentials_location)\n",
    "hadoop_conf.set(\"fs.gs.auth.service.account.enable\", \"true\")"
   ]
  },
  {
   "cell_type": "code",
   "execution_count": 4,
   "id": "c4713e2b",
   "metadata": {},
   "outputs": [],
   "source": [
    "spark = SparkSession.builder \\\n",
    "    .config(conf=sc.getConf()) \\\n",
    "    .getOrCreate()"
   ]
  },
  {
   "cell_type": "code",
   "execution_count": 5,
   "id": "1ee1eb1d",
   "metadata": {},
   "outputs": [
    {
     "name": "stderr",
     "output_type": "stream",
     "text": [
      "                                                                                \r"
     ]
    }
   ],
   "source": [
    "df_fhvhv = spark.read.parquet('gs://fellowship-9/pq/fhvhv/*/*')"
   ]
  },
  {
   "cell_type": "code",
   "execution_count": 7,
   "id": "104b40ab",
   "metadata": {},
   "outputs": [
    {
     "name": "stderr",
     "output_type": "stream",
     "text": [
      "                                                                                \r"
     ]
    },
    {
     "data": {
      "text/plain": [
       "2304517"
      ]
     },
     "execution_count": 7,
     "metadata": {},
     "output_type": "execute_result"
    }
   ],
   "source": [
    "df_fhvhv.count()"
   ]
  },
  {
   "cell_type": "code",
   "execution_count": null,
   "id": "f56a885d",
   "metadata": {},
   "outputs": [],
   "source": []
  }
 ],
 "metadata": {
  "kernelspec": {
   "display_name": "Python 3 (ipykernel)",
   "language": "python",
   "name": "python3"
  },
  "language_info": {
   "codemirror_mode": {
    "name": "ipython",
    "version": 3
   },
   "file_extension": ".py",
   "mimetype": "text/x-python",
   "name": "python",
   "nbconvert_exporter": "python",
   "pygments_lexer": "ipython3",
   "version": "3.10.8"
  }
 },
 "nbformat": 4,
 "nbformat_minor": 5
}
