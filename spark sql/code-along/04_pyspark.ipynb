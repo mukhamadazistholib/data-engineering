{
 "cells": [
  {
   "cell_type": "code",
   "execution_count": 1,
   "id": "07de9dc3",
   "metadata": {},
   "outputs": [
    {
     "ename": "TypeError",
     "evalue": "code() argument 13 must be str, not int",
     "output_type": "error",
     "traceback": [
      "\u001b[1;31m---------------------------------------------------------------------------\u001b[0m",
      "\u001b[1;31mTypeError\u001b[0m                                 Traceback (most recent call last)",
      "\u001b[1;32mc:\\Career\\2023\\Data Engineer Fellowship 2023\\Github\\data-engineering\\spark sql\\code-along\\04_pyspark.ipynb Cell 1\u001b[0m in \u001b[0;36m1\n\u001b[1;32m----> <a href='vscode-notebook-cell:/c%3A/Career/2023/Data%20Engineer%20Fellowship%202023/Github/data-engineering/spark%20sql/code-along/04_pyspark.ipynb#W0sZmlsZQ%3D%3D?line=0'>1</a>\u001b[0m \u001b[39mimport\u001b[39;00m \u001b[39mpyspark\u001b[39;00m\n\u001b[0;32m      <a href='vscode-notebook-cell:/c%3A/Career/2023/Data%20Engineer%20Fellowship%202023/Github/data-engineering/spark%20sql/code-along/04_pyspark.ipynb#W0sZmlsZQ%3D%3D?line=1'>2</a>\u001b[0m \u001b[39mfrom\u001b[39;00m \u001b[39mpyspark\u001b[39;00m\u001b[39m.\u001b[39;00m\u001b[39msql\u001b[39;00m \u001b[39mimport\u001b[39;00m SparkSession\n",
      "File \u001b[1;32mc:\\Users\\Mukhamad Azis Tholib\\AppData\\Local\\Programs\\Python\\Python311\\Lib\\site-packages\\pyspark\\__init__.py:51\u001b[0m\n\u001b[0;32m     48\u001b[0m \u001b[39mimport\u001b[39;00m \u001b[39mtypes\u001b[39;00m\n\u001b[0;32m     50\u001b[0m \u001b[39mfrom\u001b[39;00m \u001b[39mpyspark\u001b[39;00m\u001b[39m.\u001b[39;00m\u001b[39mconf\u001b[39;00m \u001b[39mimport\u001b[39;00m SparkConf\n\u001b[1;32m---> 51\u001b[0m \u001b[39mfrom\u001b[39;00m \u001b[39mpyspark\u001b[39;00m\u001b[39m.\u001b[39;00m\u001b[39mcontext\u001b[39;00m \u001b[39mimport\u001b[39;00m SparkContext\n\u001b[0;32m     52\u001b[0m \u001b[39mfrom\u001b[39;00m \u001b[39mpyspark\u001b[39;00m\u001b[39m.\u001b[39;00m\u001b[39mrdd\u001b[39;00m \u001b[39mimport\u001b[39;00m RDD, RDDBarrier\n\u001b[0;32m     53\u001b[0m \u001b[39mfrom\u001b[39;00m \u001b[39mpyspark\u001b[39;00m\u001b[39m.\u001b[39;00m\u001b[39mfiles\u001b[39;00m \u001b[39mimport\u001b[39;00m SparkFiles\n",
      "File \u001b[1;32mc:\\Users\\Mukhamad Azis Tholib\\AppData\\Local\\Programs\\Python\\Python311\\Lib\\site-packages\\pyspark\\context.py:30\u001b[0m\n\u001b[0;32m     27\u001b[0m \u001b[39mfrom\u001b[39;00m \u001b[39mpy4j\u001b[39;00m\u001b[39m.\u001b[39;00m\u001b[39mprotocol\u001b[39;00m \u001b[39mimport\u001b[39;00m Py4JError\n\u001b[0;32m     28\u001b[0m \u001b[39mfrom\u001b[39;00m \u001b[39mpy4j\u001b[39;00m\u001b[39m.\u001b[39;00m\u001b[39mjava_gateway\u001b[39;00m \u001b[39mimport\u001b[39;00m is_instance_of\n\u001b[1;32m---> 30\u001b[0m \u001b[39mfrom\u001b[39;00m \u001b[39mpyspark\u001b[39;00m \u001b[39mimport\u001b[39;00m accumulators\n\u001b[0;32m     31\u001b[0m \u001b[39mfrom\u001b[39;00m \u001b[39mpyspark\u001b[39;00m\u001b[39m.\u001b[39;00m\u001b[39maccumulators\u001b[39;00m \u001b[39mimport\u001b[39;00m Accumulator\n\u001b[0;32m     32\u001b[0m \u001b[39mfrom\u001b[39;00m \u001b[39mpyspark\u001b[39;00m\u001b[39m.\u001b[39;00m\u001b[39mbroadcast\u001b[39;00m \u001b[39mimport\u001b[39;00m Broadcast, BroadcastPickleRegistry\n",
      "File \u001b[1;32mc:\\Users\\Mukhamad Azis Tholib\\AppData\\Local\\Programs\\Python\\Python311\\Lib\\site-packages\\pyspark\\accumulators.py:97\u001b[0m\n\u001b[0;32m     95\u001b[0m     \u001b[39mimport\u001b[39;00m \u001b[39msocketserver\u001b[39;00m \u001b[39mas\u001b[39;00m \u001b[39mSocketServer\u001b[39;00m\n\u001b[0;32m     96\u001b[0m \u001b[39mimport\u001b[39;00m \u001b[39mthreading\u001b[39;00m\n\u001b[1;32m---> 97\u001b[0m \u001b[39mfrom\u001b[39;00m \u001b[39mpyspark\u001b[39;00m\u001b[39m.\u001b[39;00m\u001b[39mserializers\u001b[39;00m \u001b[39mimport\u001b[39;00m read_int, PickleSerializer\n\u001b[0;32m    100\u001b[0m __all__ \u001b[39m=\u001b[39m [\u001b[39m'\u001b[39m\u001b[39mAccumulator\u001b[39m\u001b[39m'\u001b[39m, \u001b[39m'\u001b[39m\u001b[39mAccumulatorParam\u001b[39m\u001b[39m'\u001b[39m]\n\u001b[0;32m    103\u001b[0m pickleSer \u001b[39m=\u001b[39m PickleSerializer()\n",
      "File \u001b[1;32mc:\\Users\\Mukhamad Azis Tholib\\AppData\\Local\\Programs\\Python\\Python311\\Lib\\site-packages\\pyspark\\serializers.py:71\u001b[0m\n\u001b[0;32m     68\u001b[0m     xrange \u001b[39m=\u001b[39m \u001b[39mrange\u001b[39m\n\u001b[0;32m     69\u001b[0m pickle_protocol \u001b[39m=\u001b[39m pickle\u001b[39m.\u001b[39mHIGHEST_PROTOCOL\n\u001b[1;32m---> 71\u001b[0m \u001b[39mfrom\u001b[39;00m \u001b[39mpyspark\u001b[39;00m \u001b[39mimport\u001b[39;00m cloudpickle\n\u001b[0;32m     72\u001b[0m \u001b[39mfrom\u001b[39;00m \u001b[39mpyspark\u001b[39;00m\u001b[39m.\u001b[39;00m\u001b[39mutil\u001b[39;00m \u001b[39mimport\u001b[39;00m _exception_message, print_exec\n\u001b[0;32m     75\u001b[0m __all__ \u001b[39m=\u001b[39m [\u001b[39m\"\u001b[39m\u001b[39mPickleSerializer\u001b[39m\u001b[39m\"\u001b[39m, \u001b[39m\"\u001b[39m\u001b[39mMarshalSerializer\u001b[39m\u001b[39m\"\u001b[39m, \u001b[39m\"\u001b[39m\u001b[39mUTF8Deserializer\u001b[39m\u001b[39m\"\u001b[39m]\n",
      "File \u001b[1;32mc:\\Users\\Mukhamad Azis Tholib\\AppData\\Local\\Programs\\Python\\Python311\\Lib\\site-packages\\pyspark\\cloudpickle.py:209\u001b[0m\n\u001b[0;32m    190\u001b[0m         \u001b[39melse\u001b[39;00m:\n\u001b[0;32m    191\u001b[0m             \u001b[39mreturn\u001b[39;00m types\u001b[39m.\u001b[39mCodeType(\n\u001b[0;32m    192\u001b[0m                 co\u001b[39m.\u001b[39mco_argcount,\n\u001b[0;32m    193\u001b[0m                 co\u001b[39m.\u001b[39mco_kwonlyargcount,\n\u001b[1;32m   (...)\u001b[0m\n\u001b[0;32m    206\u001b[0m                 (),\n\u001b[0;32m    207\u001b[0m             )\n\u001b[1;32m--> 209\u001b[0m _cell_set_template_code \u001b[39m=\u001b[39m _make_cell_set_template_code()\n\u001b[0;32m    212\u001b[0m \u001b[39mdef\u001b[39;00m \u001b[39mcell_set\u001b[39m(cell, value):\n\u001b[0;32m    213\u001b[0m     \u001b[39m\"\"\"Set the value of a closure cell.\u001b[39;00m\n\u001b[0;32m    214\u001b[0m \u001b[39m    \"\"\"\u001b[39;00m\n",
      "File \u001b[1;32mc:\\Users\\Mukhamad Azis Tholib\\AppData\\Local\\Programs\\Python\\Python311\\Lib\\site-packages\\pyspark\\cloudpickle.py:172\u001b[0m, in \u001b[0;36m_make_cell_set_template_code\u001b[1;34m()\u001b[0m\n\u001b[0;32m    170\u001b[0m \u001b[39melse\u001b[39;00m:\n\u001b[0;32m    171\u001b[0m     \u001b[39mif\u001b[39;00m \u001b[39mhasattr\u001b[39m(types\u001b[39m.\u001b[39mCodeType, \u001b[39m\"\u001b[39m\u001b[39mco_posonlyargcount\u001b[39m\u001b[39m\"\u001b[39m):  \u001b[39m# pragma: no branch\u001b[39;00m\n\u001b[1;32m--> 172\u001b[0m         \u001b[39mreturn\u001b[39;00m types\u001b[39m.\u001b[39;49mCodeType(\n\u001b[0;32m    173\u001b[0m             co\u001b[39m.\u001b[39;49mco_argcount,\n\u001b[0;32m    174\u001b[0m             co\u001b[39m.\u001b[39;49mco_posonlyargcount,  \u001b[39m# Python3.8 with PEP570\u001b[39;49;00m\n\u001b[0;32m    175\u001b[0m             co\u001b[39m.\u001b[39;49mco_kwonlyargcount,\n\u001b[0;32m    176\u001b[0m             co\u001b[39m.\u001b[39;49mco_nlocals,\n\u001b[0;32m    177\u001b[0m             co\u001b[39m.\u001b[39;49mco_stacksize,\n\u001b[0;32m    178\u001b[0m             co\u001b[39m.\u001b[39;49mco_flags,\n\u001b[0;32m    179\u001b[0m             co\u001b[39m.\u001b[39;49mco_code,\n\u001b[0;32m    180\u001b[0m             co\u001b[39m.\u001b[39;49mco_consts,\n\u001b[0;32m    181\u001b[0m             co\u001b[39m.\u001b[39;49mco_names,\n\u001b[0;32m    182\u001b[0m             co\u001b[39m.\u001b[39;49mco_varnames,\n\u001b[0;32m    183\u001b[0m             co\u001b[39m.\u001b[39;49mco_filename,\n\u001b[0;32m    184\u001b[0m             co\u001b[39m.\u001b[39;49mco_name,\n\u001b[0;32m    185\u001b[0m             co\u001b[39m.\u001b[39;49mco_firstlineno,\n\u001b[0;32m    186\u001b[0m             co\u001b[39m.\u001b[39;49mco_lnotab,\n\u001b[0;32m    187\u001b[0m             co\u001b[39m.\u001b[39;49mco_cellvars,  \u001b[39m# this is the trickery\u001b[39;49;00m\n\u001b[0;32m    188\u001b[0m             (),\n\u001b[0;32m    189\u001b[0m         )\n\u001b[0;32m    190\u001b[0m     \u001b[39melse\u001b[39;00m:\n\u001b[0;32m    191\u001b[0m         \u001b[39mreturn\u001b[39;00m types\u001b[39m.\u001b[39mCodeType(\n\u001b[0;32m    192\u001b[0m             co\u001b[39m.\u001b[39mco_argcount,\n\u001b[0;32m    193\u001b[0m             co\u001b[39m.\u001b[39mco_kwonlyargcount,\n\u001b[1;32m   (...)\u001b[0m\n\u001b[0;32m    206\u001b[0m             (),\n\u001b[0;32m    207\u001b[0m         )\n",
      "\u001b[1;31mTypeError\u001b[0m: code() argument 13 must be str, not int"
     ]
    }
   ],
   "source": [
    "import pyspark\n",
    "from pyspark.sql import SparkSession"
   ]
  },
  {
   "cell_type": "code",
   "execution_count": 2,
   "id": "ca5bbb06",
   "metadata": {},
   "outputs": [
    {
     "name": "stdout",
     "output_type": "stream",
     "text": [
      "23/03/15 18:02:13 WARN Utils: Your hostname, centaur.local resolves to a loopback address: 127.0.0.1; using 172.20.10.8 instead (on interface en0)\n",
      "23/03/15 18:02:13 WARN Utils: Set SPARK_LOCAL_IP if you need to bind to another address\n"
     ]
    },
    {
     "name": "stderr",
     "output_type": "stream",
     "text": [
      "Setting default log level to \"WARN\".\n",
      "To adjust logging level use sc.setLogLevel(newLevel). For SparkR, use setLogLevel(newLevel).\n"
     ]
    },
    {
     "name": "stdout",
     "output_type": "stream",
     "text": [
      "23/03/15 18:02:13 WARN NativeCodeLoader: Unable to load native-hadoop library for your platform... using builtin-java classes where applicable\n",
      "23/03/15 18:02:14 WARN Utils: Service 'SparkUI' could not bind on port 4040. Attempting port 4041.\n"
     ]
    }
   ],
   "source": [
    "spark = SparkSession.builder \\\n",
    "    .master(\"local[*]\") \\\n",
    "    .appName('test') \\\n",
    "    .getOrCreate()"
   ]
  },
  {
   "cell_type": "code",
   "execution_count": 8,
   "id": "cf8de204",
   "metadata": {},
   "outputs": [
    {
     "name": "stdout",
     "output_type": "stream",
     "text": [
      "--2023-03-15 17:51:22--  https://d37ci6vzurychx.cloudfront.net/trip-data/fhvhv_tripdata_2020-05.parquet\n",
      "Resolving d37ci6vzurychx.cloudfront.net (d37ci6vzurychx.cloudfront.net)... 18.161.108.231, 18.161.108.184, 18.161.108.77, ...\n",
      "Connecting to d37ci6vzurychx.cloudfront.net (d37ci6vzurychx.cloudfront.net)|18.161.108.231|:443... connected.\n",
      "HTTP request sent, awaiting response... 200 OK\n",
      "Length: 160544713 (153M) [application/x-www-form-urlencoded]\n",
      "Saving to: ‘fhvhv_tripdata_2020-05.parquet’\n",
      "\n",
      "fhvhv_tripdata_2020 100%[===================>] 153.11M  1.09MB/s    in 2m 19s  \n",
      "\n",
      "2023-03-15 17:53:43 (1.10 MB/s) - ‘fhvhv_tripdata_2020-05.parquet’ saved [160544713/160544713]\n",
      "\n"
     ]
    }
   ],
   "source": [
    "!wget https://d37ci6vzurychx.cloudfront.net/trip-data/fhvhv_tripdata_2020-05.parquet"
   ]
  },
  {
   "cell_type": "code",
   "execution_count": 3,
   "id": "2a52087c",
   "metadata": {},
   "outputs": [
    {
     "name": "stdout",
     "output_type": "stream",
     "text": [
      "  516719 fhvhv_tripdata_2020-05.parquet\n"
     ]
    }
   ],
   "source": [
    "!wc -l fhvhv_tripdata_2020-05.parquet"
   ]
  },
  {
   "cell_type": "code",
   "execution_count": 5,
   "id": "e88ea762",
   "metadata": {},
   "outputs": [
    {
     "name": "stdout",
     "output_type": "stream",
     "text": [
      "Requirement already satisfied: pandas in /Users/rickynauvaldyruliputra/opt/anaconda3/envs/dbt/lib/python3.10/site-packages (1.5.3)\n",
      "Requirement already satisfied: python-dateutil>=2.8.1 in /Users/rickynauvaldyruliputra/opt/anaconda3/envs/dbt/lib/python3.10/site-packages (from pandas) (2.8.2)\n",
      "Requirement already satisfied: pytz>=2020.1 in /Users/rickynauvaldyruliputra/opt/anaconda3/envs/dbt/lib/python3.10/site-packages (from pandas) (2022.7)\n",
      "Requirement already satisfied: numpy>=1.21.0 in /Users/rickynauvaldyruliputra/opt/anaconda3/envs/dbt/lib/python3.10/site-packages (from pandas) (1.24.2)\n",
      "Requirement already satisfied: six>=1.5 in /Users/rickynauvaldyruliputra/opt/anaconda3/envs/dbt/lib/python3.10/site-packages (from python-dateutil>=2.8.1->pandas) (1.16.0)\n",
      "Requirement already satisfied: pyarrow in /Users/rickynauvaldyruliputra/opt/anaconda3/envs/dbt/lib/python3.10/site-packages (11.0.0)\n",
      "Requirement already satisfied: numpy>=1.16.6 in /Users/rickynauvaldyruliputra/opt/anaconda3/envs/dbt/lib/python3.10/site-packages (from pyarrow) (1.24.2)\n",
      "Requirement already satisfied: fastparquet in /Users/rickynauvaldyruliputra/opt/anaconda3/envs/dbt/lib/python3.10/site-packages (2023.2.0)\n",
      "Requirement already satisfied: cramjam>=2.3 in /Users/rickynauvaldyruliputra/opt/anaconda3/envs/dbt/lib/python3.10/site-packages (from fastparquet) (2.6.2)\n",
      "Requirement already satisfied: fsspec in /Users/rickynauvaldyruliputra/opt/anaconda3/envs/dbt/lib/python3.10/site-packages (from fastparquet) (2023.3.0)\n",
      "Requirement already satisfied: pandas>=1.5.0 in /Users/rickynauvaldyruliputra/opt/anaconda3/envs/dbt/lib/python3.10/site-packages (from fastparquet) (1.5.3)\n",
      "Requirement already satisfied: packaging in /Users/rickynauvaldyruliputra/opt/anaconda3/envs/dbt/lib/python3.10/site-packages (from fastparquet) (23.0)\n",
      "Requirement already satisfied: numpy>=1.20.3 in /Users/rickynauvaldyruliputra/opt/anaconda3/envs/dbt/lib/python3.10/site-packages (from fastparquet) (1.24.2)\n",
      "Requirement already satisfied: python-dateutil>=2.8.1 in /Users/rickynauvaldyruliputra/opt/anaconda3/envs/dbt/lib/python3.10/site-packages (from pandas>=1.5.0->fastparquet) (2.8.2)\n",
      "Requirement already satisfied: pytz>=2020.1 in /Users/rickynauvaldyruliputra/opt/anaconda3/envs/dbt/lib/python3.10/site-packages (from pandas>=1.5.0->fastparquet) (2022.7)\n",
      "Requirement already satisfied: six>=1.5 in /Users/rickynauvaldyruliputra/opt/anaconda3/envs/dbt/lib/python3.10/site-packages (from python-dateutil>=2.8.1->pandas>=1.5.0->fastparquet) (1.16.0)\n"
     ]
    }
   ],
   "source": [
    "!pip install pandas\n",
    "!pip install pyarrow\n",
    "!pip install fastparquet"
   ]
  },
  {
   "cell_type": "code",
   "execution_count": 6,
   "id": "ef3ed811",
   "metadata": {},
   "outputs": [],
   "source": [
    "import pandas as pd\n",
    "df = pd.read_parquet('fhvhv_tripdata_2020-05.parquet')\n",
    "df.to_csv('fhvhv_tripdata_2020-05.csv')"
   ]
  },
  {
   "cell_type": "code",
   "execution_count": 7,
   "id": "931021a7",
   "metadata": {},
   "outputs": [
    {
     "name": "stderr",
     "output_type": "stream",
     "text": [
      "                                                                                \r"
     ]
    }
   ],
   "source": [
    "df = spark.read \\\n",
    "    .option(\"header\", \"true\") \\\n",
    "    .csv('fhvhv_tripdata_2020-05.csv')"
   ]
  },
  {
   "cell_type": "code",
   "execution_count": 8,
   "id": "d44b7839",
   "metadata": {},
   "outputs": [
    {
     "data": {
      "text/plain": [
       "StructType([StructField('_c0', StringType(), True), StructField('hvfhs_license_num', StringType(), True), StructField('dispatching_base_num', StringType(), True), StructField('originating_base_num', StringType(), True), StructField('request_datetime', StringType(), True), StructField('on_scene_datetime', StringType(), True), StructField('pickup_datetime', StringType(), True), StructField('dropoff_datetime', StringType(), True), StructField('PULocationID', StringType(), True), StructField('DOLocationID', StringType(), True), StructField('trip_miles', StringType(), True), StructField('trip_time', StringType(), True), StructField('base_passenger_fare', StringType(), True), StructField('tolls', StringType(), True), StructField('bcf', StringType(), True), StructField('sales_tax', StringType(), True), StructField('congestion_surcharge', StringType(), True), StructField('airport_fee', StringType(), True), StructField('tips', StringType(), True), StructField('driver_pay', StringType(), True), StructField('shared_request_flag', StringType(), True), StructField('shared_match_flag', StringType(), True), StructField('access_a_ride_flag', StringType(), True), StructField('wav_request_flag', StringType(), True), StructField('wav_match_flag', StringType(), True)])"
      ]
     },
     "execution_count": 8,
     "metadata": {},
     "output_type": "execute_result"
    }
   ],
   "source": [
    "df.schema"
   ]
  },
  {
   "cell_type": "code",
   "execution_count": 9,
   "id": "4249e790",
   "metadata": {},
   "outputs": [],
   "source": [
    "!head -n 1001 fhvhv_tripdata_2020-05.csv > head.csv"
   ]
  },
  {
   "cell_type": "code",
   "execution_count": 10,
   "id": "f3ca771b",
   "metadata": {},
   "outputs": [],
   "source": [
    "df_pandas = pd.read_csv('head.csv')"
   ]
  },
  {
   "cell_type": "code",
   "execution_count": 11,
   "id": "f1066b4f",
   "metadata": {},
   "outputs": [
    {
     "data": {
      "text/plain": [
       "Unnamed: 0                int64\n",
       "hvfhs_license_num        object\n",
       "dispatching_base_num     object\n",
       "originating_base_num     object\n",
       "request_datetime         object\n",
       "on_scene_datetime        object\n",
       "pickup_datetime          object\n",
       "dropoff_datetime         object\n",
       "PULocationID              int64\n",
       "DOLocationID              int64\n",
       "trip_miles              float64\n",
       "trip_time                 int64\n",
       "base_passenger_fare     float64\n",
       "tolls                   float64\n",
       "bcf                     float64\n",
       "sales_tax               float64\n",
       "congestion_surcharge    float64\n",
       "airport_fee             float64\n",
       "tips                    float64\n",
       "driver_pay              float64\n",
       "shared_request_flag      object\n",
       "shared_match_flag        object\n",
       "access_a_ride_flag       object\n",
       "wav_request_flag         object\n",
       "wav_match_flag           object\n",
       "dtype: object"
      ]
     },
     "execution_count": 11,
     "metadata": {},
     "output_type": "execute_result"
    }
   ],
   "source": [
    "df_pandas.dtypes"
   ]
  },
  {
   "cell_type": "code",
   "execution_count": 14,
   "id": "c023bc4a",
   "metadata": {},
   "outputs": [
    {
     "data": {
      "text/plain": [
       "Unnamed: 0                 0\n",
       "hvfhs_license_num          0\n",
       "dispatching_base_num       0\n",
       "originating_base_num     247\n",
       "request_datetime           0\n",
       "on_scene_datetime        247\n",
       "pickup_datetime            0\n",
       "dropoff_datetime           0\n",
       "PULocationID               0\n",
       "DOLocationID               0\n",
       "trip_miles                 0\n",
       "trip_time                  0\n",
       "base_passenger_fare        0\n",
       "tolls                      0\n",
       "bcf                        0\n",
       "sales_tax                  0\n",
       "congestion_surcharge       0\n",
       "airport_fee             1000\n",
       "tips                       0\n",
       "driver_pay                 0\n",
       "shared_request_flag        0\n",
       "shared_match_flag          0\n",
       "access_a_ride_flag         0\n",
       "wav_request_flag           0\n",
       "wav_match_flag             0\n",
       "dtype: int64"
      ]
     },
     "execution_count": 14,
     "metadata": {},
     "output_type": "execute_result"
    }
   ],
   "source": [
    "df_pandas.isnull().sum()"
   ]
  },
  {
   "cell_type": "code",
   "execution_count": 19,
   "id": "921bd75e",
   "metadata": {},
   "outputs": [
    {
     "data": {
      "text/plain": [
       "Unnamed: 0              0\n",
       "hvfhs_license_num       0\n",
       "dispatching_base_num    0\n",
       "originating_base_num    0\n",
       "request_datetime        0\n",
       "on_scene_datetime       0\n",
       "pickup_datetime         0\n",
       "dropoff_datetime        0\n",
       "PULocationID            0\n",
       "DOLocationID            0\n",
       "trip_miles              0\n",
       "trip_time               0\n",
       "base_passenger_fare     0\n",
       "tolls                   0\n",
       "bcf                     0\n",
       "sales_tax               0\n",
       "congestion_surcharge    0\n",
       "airport_fee             0\n",
       "tips                    0\n",
       "driver_pay              0\n",
       "shared_request_flag     0\n",
       "shared_match_flag       0\n",
       "access_a_ride_flag      0\n",
       "wav_request_flag        0\n",
       "wav_match_flag          0\n",
       "dtype: int64"
      ]
     },
     "execution_count": 19,
     "metadata": {},
     "output_type": "execute_result"
    }
   ],
   "source": [
    "df_pandas[\"originating_base_num\"] = df_pandas[\"originating_base_num\"].fillna(\"Nan values\")\n",
    "df_pandas[\"on_scene_datetime\"] = df_pandas[\"on_scene_datetime\"].fillna(\"Nan values\")\n",
    "df_pandas[\"airport_fee\"] = df_pandas[\"airport_fee\"].fillna(\"Nan values\")\n",
    "df_pandas.isnull().sum()"
   ]
  },
  {
   "cell_type": "code",
   "execution_count": 35,
   "id": "f8413c9d",
   "metadata": {},
   "outputs": [
    {
     "data": {
      "text/plain": [
       "StructType([StructField('Unnamed: 0', LongType(), True), StructField('hvfhs_license_num', StringType(), True), StructField('dispatching_base_num', StringType(), True), StructField('originating_base_num', StringType(), True), StructField('request_datetime', StringType(), True), StructField('on_scene_datetime', StringType(), True), StructField('pickup_datetime', StringType(), True), StructField('dropoff_datetime', StringType(), True), StructField('PULocationID', LongType(), True), StructField('DOLocationID', LongType(), True), StructField('trip_miles', DoubleType(), True), StructField('trip_time', LongType(), True), StructField('base_passenger_fare', DoubleType(), True), StructField('tolls', DoubleType(), True), StructField('bcf', DoubleType(), True), StructField('sales_tax', DoubleType(), True), StructField('congestion_surcharge', DoubleType(), True), StructField('airport_fee', StringType(), True), StructField('tips', DoubleType(), True), StructField('driver_pay', DoubleType(), True), StructField('shared_request_flag', StringType(), True), StructField('shared_match_flag', StringType(), True), StructField('access_a_ride_flag', StringType(), True), StructField('wav_request_flag', StringType(), True), StructField('wav_match_flag', StringType(), True)])"
      ]
     },
     "execution_count": 35,
     "metadata": {},
     "output_type": "execute_result"
    }
   ],
   "source": [
    "spark.createDataFrame(df_pandas).schema"
   ]
  },
  {
   "cell_type": "markdown",
   "id": "80f252c1",
   "metadata": {},
   "source": [
    "Integer - 4 bytes\n",
    "Long - 8 bytes"
   ]
  },
  {
   "cell_type": "code",
   "execution_count": 29,
   "id": "16937bfd",
   "metadata": {},
   "outputs": [],
   "source": [
    "from pyspark.sql import types"
   ]
  },
  {
   "cell_type": "code",
   "execution_count": 45,
   "id": "fc61a99a",
   "metadata": {},
   "outputs": [],
   "source": [
    "schema = types.StructType([\n",
    "    types.StructField('', types.IntegerType(), True),\n",
    "    types.StructField('hvfhs_license_num', types.StringType(), True),\n",
    "    types.StructField('dispatching_base_num', types.StringType(), True),\n",
    "    types.StructField('originating_base_num', types.StringType(), True),\n",
    "    types.StructField('request_datetime', types.StringType(), True),\n",
    "    types.StructField('on_scene_datetime', types.StringType(), True),\n",
    "    types.StructField('pickup_datetime', types.StringType(), True),\n",
    "    types.StructField('dropoff_datetime', types.StringType(), True),\n",
    "    types.StructField('PULocationID', types.IntegerType(), True),\n",
    "    types.StructField('DOLocationID', types.IntegerType(), True),\n",
    "    types.StructField('trip_miles', types.FloatType(), True),\n",
    "    types.StructField('trip_time', types.IntegerType(), True),\n",
    "    types.StructField('base_passenger_fare', types.FloatType(), True),\n",
    "    types.StructField('tolls', types.FloatType(), True),\n",
    "    types.StructField('bcf', types.FloatType(), True),\n",
    "    types.StructField('sales_tax', types.FloatType(), True),\n",
    "    types.StructField('congestion_surcharge', types.FloatType(), True),\n",
    "    types.StructField('airport_fee', types.FloatType(), True),\n",
    "    types.StructField('tips', types.FloatType(), True),\n",
    "    types.StructField('driver_pay', types.FloatType(), True),\n",
    "    types.StructField('shared_request_flag', types.StringType(), True),\n",
    "    types.StructField('shared_match_flag', types.StringType(), True),\n",
    "    types.StructField('access_a_ride_flag', types.StringType(), True),\n",
    "    types.StructField('wav_request_flag', types.StringType(), True),\n",
    "    types.StructField('wav_match_flag', types.StringType(), True)\n",
    "])"
   ]
  },
  {
   "cell_type": "code",
   "execution_count": 46,
   "id": "f94052ae",
   "metadata": {},
   "outputs": [],
   "source": [
    "df = spark.read \\\n",
    "    .option(\"header\", \"true\") \\\n",
    "    .schema(schema) \\\n",
    "    .csv('fhvhv_tripdata_2020-05.csv')"
   ]
  },
  {
   "cell_type": "code",
   "execution_count": 47,
   "id": "c270d9d6",
   "metadata": {},
   "outputs": [],
   "source": [
    "df = df.repartition(24)"
   ]
  },
  {
   "cell_type": "code",
   "execution_count": 48,
   "id": "7796c2b2",
   "metadata": {},
   "outputs": [
    {
     "name": "stderr",
     "output_type": "stream",
     "text": [
      "[Stage 13:===========================================>              (6 + 2) / 8]\r"
     ]
    },
    {
     "name": "stdout",
     "output_type": "stream",
     "text": [
      "23/03/15 18:26:18 WARN MemoryManager: Total allocation exceeds 95.00% (906,992,014 bytes) of heap memory\n",
      "Scaling row group sizes to 96.54% for 7 writers\n",
      "23/03/15 18:26:18 WARN MemoryManager: Total allocation exceeds 95.00% (906,992,014 bytes) of heap memory\n",
      "Scaling row group sizes to 84.47% for 8 writers\n"
     ]
    },
    {
     "name": "stderr",
     "output_type": "stream",
     "text": [
      "[Stage 15:>                                                        (0 + 8) / 24]\r"
     ]
    },
    {
     "name": "stdout",
     "output_type": "stream",
     "text": [
      "23/03/15 18:26:20 WARN MemoryManager: Total allocation exceeds 95.00% (906,992,014 bytes) of heap memory\n",
      "Scaling row group sizes to 96.54% for 7 writers\n"
     ]
    },
    {
     "name": "stderr",
     "output_type": "stream",
     "text": [
      "[Stage 15:===================>                                     (8 + 8) / 24]\r"
     ]
    },
    {
     "name": "stdout",
     "output_type": "stream",
     "text": [
      "23/03/15 18:26:20 WARN MemoryManager: Total allocation exceeds 95.00% (906,992,014 bytes) of heap memory\n",
      "Scaling row group sizes to 96.54% for 7 writers\n",
      "23/03/15 18:26:20 WARN MemoryManager: Total allocation exceeds 95.00% (906,992,014 bytes) of heap memory\n",
      "Scaling row group sizes to 84.47% for 8 writers\n",
      "23/03/15 18:26:21 WARN MemoryManager: Total allocation exceeds 95.00% (906,992,014 bytes) of heap memory\n",
      "Scaling row group sizes to 96.54% for 7 writers\n"
     ]
    },
    {
     "name": "stderr",
     "output_type": "stream",
     "text": [
      "[Stage 15:================================>                       (14 + 8) / 24]\r"
     ]
    },
    {
     "name": "stdout",
     "output_type": "stream",
     "text": [
      "23/03/15 18:26:21 WARN MemoryManager: Total allocation exceeds 95.00% (906,992,014 bytes) of heap memory\n",
      "Scaling row group sizes to 96.54% for 7 writers\n",
      "23/03/15 18:26:21 WARN MemoryManager: Total allocation exceeds 95.00% (906,992,014 bytes) of heap memory\n",
      "Scaling row group sizes to 84.47% for 8 writers\n"
     ]
    },
    {
     "name": "stderr",
     "output_type": "stream",
     "text": [
      "[Stage 15:=====================================>                  (16 + 8) / 24]\r"
     ]
    },
    {
     "name": "stdout",
     "output_type": "stream",
     "text": [
      "23/03/15 18:26:22 WARN MemoryManager: Total allocation exceeds 95.00% (906,992,014 bytes) of heap memory\n",
      "Scaling row group sizes to 96.54% for 7 writers\n"
     ]
    },
    {
     "name": "stderr",
     "output_type": "stream",
     "text": [
      "                                                                                \r"
     ]
    }
   ],
   "source": [
    "df.write.parquet('fhvhv/2020/05/')"
   ]
  },
  {
   "cell_type": "code",
   "execution_count": 49,
   "id": "c3cab876",
   "metadata": {},
   "outputs": [],
   "source": [
    "df = spark.read.parquet('fhvhv/2020/05/')"
   ]
  },
  {
   "cell_type": "code",
   "execution_count": 50,
   "id": "203b5627",
   "metadata": {},
   "outputs": [
    {
     "name": "stdout",
     "output_type": "stream",
     "text": [
      "root\n",
      " |-- : integer (nullable = true)\n",
      " |-- hvfhs_license_num: string (nullable = true)\n",
      " |-- dispatching_base_num: string (nullable = true)\n",
      " |-- originating_base_num: string (nullable = true)\n",
      " |-- request_datetime: string (nullable = true)\n",
      " |-- on_scene_datetime: string (nullable = true)\n",
      " |-- pickup_datetime: string (nullable = true)\n",
      " |-- dropoff_datetime: string (nullable = true)\n",
      " |-- PULocationID: integer (nullable = true)\n",
      " |-- DOLocationID: integer (nullable = true)\n",
      " |-- trip_miles: float (nullable = true)\n",
      " |-- trip_time: integer (nullable = true)\n",
      " |-- base_passenger_fare: float (nullable = true)\n",
      " |-- tolls: float (nullable = true)\n",
      " |-- bcf: float (nullable = true)\n",
      " |-- sales_tax: float (nullable = true)\n",
      " |-- congestion_surcharge: float (nullable = true)\n",
      " |-- airport_fee: float (nullable = true)\n",
      " |-- tips: float (nullable = true)\n",
      " |-- driver_pay: float (nullable = true)\n",
      " |-- shared_request_flag: string (nullable = true)\n",
      " |-- shared_match_flag: string (nullable = true)\n",
      " |-- access_a_ride_flag: string (nullable = true)\n",
      " |-- wav_request_flag: string (nullable = true)\n",
      " |-- wav_match_flag: string (nullable = true)\n",
      "\n"
     ]
    }
   ],
   "source": [
    "df.printSchema()"
   ]
  },
  {
   "cell_type": "markdown",
   "id": "64172a47",
   "metadata": {},
   "source": [
    "SELECT * FROM df WHERE hvfhs_license_num =  HV0003"
   ]
  },
  {
   "cell_type": "code",
   "execution_count": 51,
   "id": "d24840a0",
   "metadata": {},
   "outputs": [],
   "source": [
    "from pyspark.sql import functions as F"
   ]
  },
  {
   "cell_type": "code",
   "execution_count": 52,
   "id": "3ab1ca44",
   "metadata": {
    "scrolled": true
   },
   "outputs": [
    {
     "name": "stdout",
     "output_type": "stream",
     "text": [
      "+------+-----------------+--------------------+--------------------+-------------------+-------------------+-------------------+-------------------+------------+------------+----------+---------+-------------------+-----+----+---------+--------------------+-----------+----+----------+-------------------+-----------------+------------------+----------------+--------------+\n",
      "|      |hvfhs_license_num|dispatching_base_num|originating_base_num|   request_datetime|  on_scene_datetime|    pickup_datetime|   dropoff_datetime|PULocationID|DOLocationID|trip_miles|trip_time|base_passenger_fare|tolls| bcf|sales_tax|congestion_surcharge|airport_fee|tips|driver_pay|shared_request_flag|shared_match_flag|access_a_ride_flag|wav_request_flag|wav_match_flag|\n",
      "+------+-----------------+--------------------+--------------------+-------------------+-------------------+-------------------+-------------------+------------+------------+----------+---------+-------------------+-----+----+---------+--------------------+-----------+----+----------+-------------------+-----------------+------------------+----------------+--------------+\n",
      "|386999|           HV0003|              B02872|              B02872|2020-05-03 01:13:09|2020-05-03 01:13:22|2020-05-03 01:16:28|2020-05-03 01:21:23|          75|          74|      0.27|      295|                7.3|  0.0|0.21|     0.65|                 0.0|       null| 1.0|     10.16|                  N|                N|                  |               N|             Y|\n",
      "|343058|           HV0003|              B02887|              B02887|2020-05-02 20:29:52|2020-05-02 20:32:01|2020-05-02 20:33:12|2020-05-02 20:48:57|         136|         208|      6.41|      945|              35.31|  0.0|0.88|     3.13|                 0.0|       null| 0.0|     21.19|                  N|                N|                  |               N|             N|\n",
      "| 90370|           HV0003|              B02870|              B02870|2020-05-01 14:23:35|2020-05-01 14:30:22|2020-05-01 14:32:04|2020-05-01 14:49:44|         177|          37|      2.76|     1060|               13.3|  0.0|0.33|     1.18|                 0.0|       null| 0.0|     11.92|                  N|                N|                  |               N|             N|\n",
      "|119965|           HV0003|              B02879|              B02879|2020-05-01 16:06:28|2020-05-01 16:07:10|2020-05-01 16:09:32|2020-05-01 16:35:17|         142|          18|     14.48|     1545|              40.73|  2.8|1.09|     3.86|                2.75|       null| 0.0|      28.9|                  N|                N|                  |               N|             N|\n",
      "|754873|           HV0003|              B02864|              B02864|2020-05-05 09:24:47|2020-05-05 09:24:56|2020-05-05 09:27:28|2020-05-05 09:52:39|          77|          65|      6.41|     1511|              27.82|  0.0| 0.7|     2.47|                 0.0|       null| 0.0|     19.72|                  N|                N|                  |               N|             N|\n",
      "|763950|           HV0003|              B02617|              B02617|2020-05-05 10:04:46|2020-05-05 10:06:19|2020-05-05 10:07:19|2020-05-05 10:17:58|          36|          37|      1.62|      639|               9.33|  0.0|0.23|     0.83|                 0.0|       null| 0.0|      7.13|                  N|                N|                  |               N|             N|\n",
      "|153413|           HV0005|              B02510|                null|2020-05-01 19:50:09|               null|2020-05-01 19:54:21|2020-05-01 20:08:21|          89|          65|     3.319|      840|              18.81|  0.0|0.47|     1.67|                 0.0|       null| 0.0|     10.72|                  N|                N|                 N|               N|             N|\n",
      "|244769|           HV0003|              B02872|              B02872|2020-05-02 10:51:09|2020-05-02 10:55:47|2020-05-02 10:57:55|2020-05-02 11:03:51|         225|         177|      1.26|      356|               8.44|  0.0|0.26|     0.75|                 0.0|       null| 2.0|      5.39|                  N|                N|                  |               N|             N|\n",
      "|721355|           HV0003|              B02835|              B02835|2020-05-05 05:20:38|2020-05-05 05:22:56|2020-05-05 05:24:31|2020-05-05 05:36:14|          61|         181|      3.65|      703|              14.46|  0.0|0.36|     1.28|                 0.0|       null| 0.0|      9.91|                  N|                N|                  |               N|             N|\n",
      "|248722|           HV0003|              B02867|              B02867|2020-05-02 11:22:52|2020-05-02 11:24:34|2020-05-02 11:25:41|2020-05-02 11:29:14|         203|         265|       0.8|      213|               9.69|  0.0|0.24|     0.86|                 0.0|       null| 0.0|      7.27|                  N|                N|                  |               N|             N|\n",
      "|235358|           HV0005|              B02510|                null|2020-05-02 09:33:54|               null|2020-05-02 09:38:25|2020-05-02 09:53:26|          51|         254|     2.983|      901|              13.07|  0.0|0.33|     1.16|                 0.0|       null| 0.0|     10.86|                  N|                N|                 N|               N|             N|\n",
      "|420187|           HV0003|              B02764|              B02764|2020-05-03 09:00:37|2020-05-03 09:02:40|2020-05-03 09:04:38|2020-05-03 09:13:21|          82|         226|      2.47|      523|              10.86|  0.0|0.27|     0.96|                 0.0|       null| 0.0|      7.09|                  N|                N|                  |               N|             N|\n",
      "| 33822|           HV0003|              B02866|              B02866|2020-05-01 08:51:14|2020-05-01 08:52:26|2020-05-01 08:56:07|2020-05-01 09:00:59|         169|         247|      1.09|      292|               2.33|  0.0|0.18|     0.65|                 0.0|       null| 0.0|      5.39|                  N|                N|                  |               N|             N|\n",
      "|379757|           HV0003|              B02871|              B02871|2020-05-03 00:56:59|2020-05-03 00:57:04|2020-05-03 00:58:31|2020-05-03 01:23:17|          76|         188|      4.58|     1486|              18.71|  0.0|0.47|     1.66|                 0.0|       null| 0.0|     17.49|                  N|                N|                  |               N|             N|\n",
      "|129102|           HV0003|              B02882|              B02882|2020-05-01 16:57:28|2020-05-01 16:58:55|2020-05-01 17:00:34|2020-05-01 17:15:24|         170|          42|      6.24|      890|              20.04|  0.0|0.59|     1.79|                2.75|       null|3.77|     14.33|                  N|                N|                  |               N|             N|\n",
      "|617207|           HV0005|              B02510|                null|2020-05-04 13:05:00|               null|2020-05-04 13:07:30|2020-05-04 13:23:00|         256|         170|     4.483|      930|              18.96| 2.54|0.54|     1.91|                2.75|       null| 0.0|     12.76|                  N|                N|                 N|               N|             N|\n",
      "|444460|           HV0003|              B02764|              B02764|2020-05-03 13:32:35|2020-05-03 13:33:53|2020-05-03 13:34:36|2020-05-03 13:51:04|         241|         244|      5.16|      988|              16.31|  0.0|0.46|     1.45|                 0.0|       null| 2.0|     13.96|                  N|                N|                  |               N|             N|\n",
      "|575993|           HV0005|              B02510|                null|2020-05-04 08:29:58|               null|2020-05-04 08:32:31|2020-05-04 08:46:49|         263|         137|     3.774|      858|              15.96|  0.0| 0.4|     1.42|                2.75|       null| 0.0|     11.37|                  N|                N|                 N|               N|             N|\n",
      "|473802|           HV0003|              B02872|              B02872|2020-05-03 16:08:33|2020-05-03 16:11:13|2020-05-03 16:12:24|2020-05-03 16:21:30|         126|         168|      1.89|      546|               9.13|  0.0|0.23|     0.81|                 0.0|       null| 0.0|      6.65|                  N|                N|                  |               N|             N|\n",
      "|525596|           HV0003|              B02764|              B02764|2020-05-03 22:41:22|2020-05-03 22:43:29|2020-05-03 22:47:22|2020-05-03 22:53:35|          69|          69|      0.73|      374|              13.26|  0.0|0.33|     1.18|                 0.0|       null| 0.0|      7.94|                  N|                N|                  |               N|             N|\n",
      "+------+-----------------+--------------------+--------------------+-------------------+-------------------+-------------------+-------------------+------------+------------+----------+---------+-------------------+-----+----+---------+--------------------+-----------+----+----------+-------------------+-----------------+------------------+----------------+--------------+\n",
      "only showing top 20 rows\n",
      "\n"
     ]
    }
   ],
   "source": [
    "df.show()"
   ]
  },
  {
   "cell_type": "code",
   "execution_count": 53,
   "id": "6d98c2ce",
   "metadata": {},
   "outputs": [],
   "source": [
    "def crazy_stuff(base_num):\n",
    "    num = int(base_num[1:])\n",
    "    if num % 7 == 0:\n",
    "        return f's/{num:03x}'\n",
    "    elif num % 3 == 0:\n",
    "        return f'a/{num:03x}'\n",
    "    else:\n",
    "        return f'e/{num:03x}'"
   ]
  },
  {
   "cell_type": "code",
   "execution_count": 54,
   "id": "f3175419",
   "metadata": {},
   "outputs": [
    {
     "data": {
      "text/plain": [
       "'s/b44'"
      ]
     },
     "execution_count": 54,
     "metadata": {},
     "output_type": "execute_result"
    }
   ],
   "source": [
    "crazy_stuff('B02884')"
   ]
  },
  {
   "cell_type": "code",
   "execution_count": 55,
   "id": "9bb5d503",
   "metadata": {},
   "outputs": [],
   "source": [
    "crazy_stuff_udf = F.udf(crazy_stuff, returnType=types.StringType())"
   ]
  },
  {
   "cell_type": "code",
   "execution_count": 56,
   "id": "b38f0465",
   "metadata": {
    "scrolled": true
   },
   "outputs": [
    {
     "name": "stderr",
     "output_type": "stream",
     "text": [
      "[Stage 18:>                                                         (0 + 1) / 1]\r"
     ]
    },
    {
     "name": "stdout",
     "output_type": "stream",
     "text": [
      "+-------+-----------+------------+------------+------------+\n",
      "|base_id|pickup_date|dropoff_date|PULocationID|DOLocationID|\n",
      "+-------+-----------+------------+------------+------------+\n",
      "|  e/b38| 2020-05-03|  2020-05-03|          75|          74|\n",
      "|  e/b47| 2020-05-02|  2020-05-02|         136|         208|\n",
      "|  s/b36| 2020-05-01|  2020-05-01|         177|          37|\n",
      "|  e/b3f| 2020-05-01|  2020-05-01|         142|          18|\n",
      "|  e/b30| 2020-05-05|  2020-05-05|          77|          65|\n",
      "|  e/a39| 2020-05-05|  2020-05-05|          36|          37|\n",
      "|  e/9ce| 2020-05-01|  2020-05-01|          89|          65|\n",
      "|  e/b38| 2020-05-02|  2020-05-02|         225|         177|\n",
      "|  s/b13| 2020-05-05|  2020-05-05|          61|         181|\n",
      "|  e/b33| 2020-05-02|  2020-05-02|         203|         265|\n",
      "|  e/9ce| 2020-05-02|  2020-05-02|          51|         254|\n",
      "|  e/acc| 2020-05-03|  2020-05-03|          82|         226|\n",
      "|  e/b32| 2020-05-01|  2020-05-01|         169|         247|\n",
      "|  a/b37| 2020-05-03|  2020-05-03|          76|         188|\n",
      "|  e/b42| 2020-05-01|  2020-05-01|         170|          42|\n",
      "|  e/9ce| 2020-05-04|  2020-05-04|         256|         170|\n",
      "|  e/acc| 2020-05-03|  2020-05-03|         241|         244|\n",
      "|  e/9ce| 2020-05-04|  2020-05-04|         263|         137|\n",
      "|  e/b38| 2020-05-03|  2020-05-03|         126|         168|\n",
      "|  e/acc| 2020-05-03|  2020-05-03|          69|          69|\n",
      "+-------+-----------+------------+------------+------------+\n",
      "only showing top 20 rows\n",
      "\n"
     ]
    },
    {
     "name": "stderr",
     "output_type": "stream",
     "text": [
      "                                                                                \r"
     ]
    }
   ],
   "source": [
    "df \\\n",
    "    .withColumn('pickup_date', F.to_date(df.pickup_datetime)) \\\n",
    "    .withColumn('dropoff_date', F.to_date(df.dropoff_datetime)) \\\n",
    "    .withColumn('base_id', crazy_stuff_udf(df.dispatching_base_num)) \\\n",
    "    .select('base_id', 'pickup_date', 'dropoff_date', 'PULocationID', 'DOLocationID') \\\n",
    "    .show()"
   ]
  },
  {
   "cell_type": "code",
   "execution_count": 57,
   "id": "00921644",
   "metadata": {},
   "outputs": [
    {
     "data": {
      "text/plain": [
       "DataFrame[pickup_datetime: string, dropoff_datetime: string, PULocationID: int, DOLocationID: int]"
      ]
     },
     "execution_count": 57,
     "metadata": {},
     "output_type": "execute_result"
    }
   ],
   "source": [
    "df.select('pickup_datetime', 'dropoff_datetime', 'PULocationID', 'DOLocationID') \\\n",
    "  .filter(df.hvfhs_license_num == 'HV0003')\n"
   ]
  },
  {
   "cell_type": "code",
   "execution_count": 58,
   "id": "0866f9c0",
   "metadata": {},
   "outputs": [
    {
     "name": "stdout",
     "output_type": "stream",
     "text": [
      ",hvfhs_license_num,dispatching_base_num,originating_base_num,request_datetime,on_scene_datetime,pickup_datetime,dropoff_datetime,PULocationID,DOLocationID,trip_miles,trip_time,base_passenger_fare,tolls,bcf,sales_tax,congestion_surcharge,airport_fee,tips,driver_pay,shared_request_flag,shared_match_flag,access_a_ride_flag,wav_request_flag,wav_match_flag\n",
      "0,HV0003,B02764,B02764,2020-05-01 00:34:06,2020-05-01 00:40:12,2020-05-01 00:41:02,2020-05-01 01:08:04,142,69,8.85,1622,31.11,0.0,0.79,2.8,2.75,,0.0,23.34,N,N, ,N,N\n",
      "1,HV0003,B02764,B02764,2020-05-01 00:06:47,2020-05-01 00:10:34,2020-05-01 00:13:27,2020-05-01 00:27:20,126,254,6.35,833,19.05,0.0,0.48,1.69,0.0,,0.0,13.97,N,N, ,N,N\n",
      "2,HV0003,B02764,B02764,2020-05-01 00:27:19,2020-05-01 00:27:32,2020-05-01 00:29:50,2020-05-01 01:01:52,254,265,18.85,1922,55.1,6.12,1.53,5.43,0.0,,0.0,40.63,N,N, ,N,N\n",
      "3,HV0003,B02875,B02875,2020-05-01 00:20:01,2020-05-01 00:24:15,2020-05-01 00:24:47,2020-05-01 00:56:04,170,265,19.35,1877,51.85,6.12,1.62,5.16,2.75,,6.75,38.92,N,N, ,N,N\n",
      "4,HV0004,B02800,,2020-05-01 00:31:26,,2020-05-01 00:45:01,2020-05-01 00:54:28,140,4,4.49,567,16.95,0.0,0.0,1.2,2.75,,0.0,9.65,N,N,N,N,N\n",
      "5,HV0004,B02800,,2020-05-01 00:51:50,,2020-05-01 00:59:52,2020-05-01 01:15:28,224,74,5.55,936,20.95,0.0,0.0,1.49,2.75,,0.0,13.89,N,N,N,N,N\n",
      "6,HV0005,B02510,,2020-05-01 00:06:11,,2020-05-01 00:11:38,2020-05-01 00:23:31,14,21,3.291,713,13.83,0.0,0.35,1.23,0.0,,0.0,9.62,N,N,N,N,N\n",
      "7,HV0005,B02510,,2020-05-01 00:18:40,,2020-05-01 00:27:32,2020-05-01 00:39:03,21,55,3.127,691,12.37,0.0,0.31,1.1,0.0,,0.0,9.26,N,N,N,N,N\n",
      "8,HV0005,B02510,,2020-05-01 00:01:02,,2020-05-01 00:05:32,2020-05-01 00:16:05,243,47,3.023,633,13.91,0.0,0.35,1.23,0.0,,0.0,8.65,N,N,N,N,N\n"
     ]
    }
   ],
   "source": [
    "!head -n 10 head.csv"
   ]
  },
  {
   "cell_type": "code",
   "execution_count": null,
   "id": "aa1b0e18",
   "metadata": {},
   "outputs": [],
   "source": []
  }
 ],
 "metadata": {
  "kernelspec": {
   "display_name": "Python 3 (ipykernel)",
   "language": "python",
   "name": "python3"
  },
  "language_info": {
   "codemirror_mode": {
    "name": "ipython",
    "version": 3
   },
   "file_extension": ".py",
   "mimetype": "text/x-python",
   "name": "python",
   "nbconvert_exporter": "python",
   "pygments_lexer": "ipython3",
   "version": "3.11.0"
  }
 },
 "nbformat": 4,
 "nbformat_minor": 5
}
