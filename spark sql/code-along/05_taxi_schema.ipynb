{
 "cells": [
  {
   "cell_type": "code",
   "execution_count": 5,
   "id": "8c1d0c08",
   "metadata": {},
   "outputs": [],
   "source": [
    "import pyspark\n",
    "from pyspark.sql import SparkSession"
   ]
  },
  {
   "cell_type": "code",
   "execution_count": 6,
   "id": "96a248f5",
   "metadata": {},
   "outputs": [],
   "source": [
    "spark = SparkSession.builder \\\n",
    "    .master(\"local[*]\") \\\n",
    "    .appName('test') \\\n",
    "    .getOrCreate()"
   ]
  },
  {
   "cell_type": "code",
   "execution_count": 7,
   "id": "c53274b1",
   "metadata": {},
   "outputs": [],
   "source": [
    "import pandas as pd"
   ]
  },
  {
   "cell_type": "code",
   "execution_count": 8,
   "id": "5d8434e1",
   "metadata": {},
   "outputs": [],
   "source": [
    "from pyspark.sql import types"
   ]
  },
  {
   "cell_type": "code",
   "execution_count": 11,
   "id": "a84c6c6d",
   "metadata": {},
   "outputs": [],
   "source": [
    "fhvhv_schema = types.StructType([\n",
    "    types.StructField('', types.IntegerType(), True),\n",
    "    types.StructField('hvfhs_license_num', types.StringType(), True),\n",
    "    types.StructField('dispatching_base_num', types.StringType(), True),\n",
    "    types.StructField('originating_base_num', types.StringType(), True),\n",
    "    types.StructField('request_datetime', types.StringType(), True),\n",
    "    types.StructField('on_scene_datetime', types.StringType(), True),\n",
    "    types.StructField('pickup_datetime', types.StringType(), True),\n",
    "    types.StructField('dropoff_datetime', types.StringType(), True),\n",
    "    types.StructField('PULocationID', types.IntegerType(), True),\n",
    "    types.StructField('DOLocationID', types.IntegerType(), True),\n",
    "    types.StructField('trip_miles', types.FloatType(), True),\n",
    "    types.StructField('trip_time', types.IntegerType(), True),\n",
    "    types.StructField('base_passenger_fare', types.FloatType(), True),\n",
    "    types.StructField('tolls', types.FloatType(), True),\n",
    "    types.StructField('bcf', types.FloatType(), True),\n",
    "    types.StructField('sales_tax', types.FloatType(), True),\n",
    "    types.StructField('congestion_surcharge', types.FloatType(), True),\n",
    "    types.StructField('airport_fee', types.FloatType(), True),\n",
    "    types.StructField('tips', types.FloatType(), True),\n",
    "    types.StructField('driver_pay', types.FloatType(), True),\n",
    "    types.StructField('shared_request_flag', types.StringType(), True),\n",
    "    types.StructField('shared_match_flag', types.StringType(), True),\n",
    "    types.StructField('access_a_ride_flag', types.StringType(), True),\n",
    "    types.StructField('wav_request_flag', types.StringType(), True),\n",
    "    types.StructField('wav_match_flag', types.StringType(), True)\n",
    "])"
   ]
  },
  {
   "cell_type": "code",
   "execution_count": 13,
   "id": "3f7e0cb9",
   "metadata": {
    "scrolled": true
   },
   "outputs": [
    {
     "name": "stdout",
     "output_type": "stream",
     "text": [
      "processing data for 2020/5\n"
     ]
    },
    {
     "name": "stderr",
     "output_type": "stream",
     "text": [
      "                                                                                \r"
     ]
    }
   ],
   "source": [
    "year = 2020\n",
    "\n",
    "# for month in range(1, 13):\n",
    "for month in [5]:\n",
    "    print(f'processing data for {year}/{month}')\n",
    "\n",
    "    input_path = f'data/raw/fhvhv/{year}/{month:02d}/'\n",
    "    output_path = f'data/pq/fhvhv/{year}/{month:02d}/'\n",
    "\n",
    "    df_fhvhv = spark.read \\\n",
    "        .option(\"header\", \"true\") \\\n",
    "        .schema(fhvhv_schema) \\\n",
    "        .csv(input_path)\n",
    "\n",
    "    df_fhvhv \\\n",
    "        .repartition(4) \\\n",
    "        .write.parquet(output_path)"
   ]
  }
 ],
 "metadata": {
  "kernelspec": {
   "display_name": "Python 3 (ipykernel)",
   "language": "python",
   "name": "python3"
  },
  "language_info": {
   "codemirror_mode": {
    "name": "ipython",
    "version": 3
   },
   "file_extension": ".py",
   "mimetype": "text/x-python",
   "name": "python",
   "nbconvert_exporter": "python",
   "pygments_lexer": "ipython3",
   "version": "3.10.8"
  }
 },
 "nbformat": 4,
 "nbformat_minor": 5
}
